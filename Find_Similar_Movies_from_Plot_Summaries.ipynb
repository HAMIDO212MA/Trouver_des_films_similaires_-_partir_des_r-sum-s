{
  "nbformat": 4,
  "nbformat_minor": 0,
  "metadata": {
    "colab": {
      "provenance": [],
      "toc_visible": true
    },
    "kernelspec": {
      "name": "python3",
      "display_name": "Python 3"
    },
    "language_info": {
      "name": "python"
    }
  },
  "cells": [
    {
      "cell_type": "markdown",
      "source": [
        "# **Find Similar Movies from Plot Summaries - by AHMED**"
      ],
      "metadata": {
        "id": "iKYrdalpy83P"
      }
    },
    {
      "cell_type": "markdown",
      "source": [
        "# **Dataset :**"
      ],
      "metadata": {
        "id": "i9zAw13Sy-Dw"
      }
    },
    {
      "cell_type": "code",
      "source": [
        "import pandas as pd"
      ],
      "metadata": {
        "id": "L7VkhyFxzODN"
      },
      "execution_count": 51,
      "outputs": []
    },
    {
      "cell_type": "code",
      "source": [
        "data = pd.read_csv('movies.csv')"
      ],
      "metadata": {
        "id": "ahOQEIFnzQay"
      },
      "execution_count": 52,
      "outputs": []
    },
    {
      "cell_type": "code",
      "source": [
        "data.head()"
      ],
      "metadata": {
        "colab": {
          "base_uri": "https://localhost:8080/",
          "height": 241
        },
        "id": "lTY13uRJzac0",
        "outputId": "c76477cb-f2c7-41a4-af81-6c5b05c89d8d"
      },
      "execution_count": 53,
      "outputs": [
        {
          "output_type": "execute_result",
          "data": {
            "text/plain": [
              "   rank                     title                                    genre  \\\n",
              "0     0             The Godfather                   [u' Crime', u' Drama']   \n",
              "1     1  The Shawshank Redemption                   [u' Crime', u' Drama']   \n",
              "2     2          Schindler's List  [u' Biography', u' Drama', u' History']   \n",
              "3     3               Raging Bull    [u' Biography', u' Drama', u' Sport']   \n",
              "4     4                Casablanca        [u' Drama', u' Romance', u' War']   \n",
              "\n",
              "                                           wiki_plot  \\\n",
              "0  On the day of his only daughter's wedding, Vit...   \n",
              "1  In 1947, banker Andy Dufresne is convicted of ...   \n",
              "2  In 1939, the Germans move Polish Jews into the...   \n",
              "3  In a brief scene in 1964, an aging, overweight...   \n",
              "4  It is early December 1941. American expatriate...   \n",
              "\n",
              "                                           imdb_plot  \n",
              "0  In late summer 1945, guests are gathered for t...  \n",
              "1  In 1947, Andy Dufresne (Tim Robbins), a banker...  \n",
              "2  The relocation of Polish Jews from surrounding...  \n",
              "3  The film opens in 1964, where an older and fat...  \n",
              "4  In the early years of World War II, December 1...  "
            ],
            "text/html": [
              "\n",
              "  <div id=\"df-73f8451f-01cd-4234-bce2-80d1beacec7d\" class=\"colab-df-container\">\n",
              "    <div>\n",
              "<style scoped>\n",
              "    .dataframe tbody tr th:only-of-type {\n",
              "        vertical-align: middle;\n",
              "    }\n",
              "\n",
              "    .dataframe tbody tr th {\n",
              "        vertical-align: top;\n",
              "    }\n",
              "\n",
              "    .dataframe thead th {\n",
              "        text-align: right;\n",
              "    }\n",
              "</style>\n",
              "<table border=\"1\" class=\"dataframe\">\n",
              "  <thead>\n",
              "    <tr style=\"text-align: right;\">\n",
              "      <th></th>\n",
              "      <th>rank</th>\n",
              "      <th>title</th>\n",
              "      <th>genre</th>\n",
              "      <th>wiki_plot</th>\n",
              "      <th>imdb_plot</th>\n",
              "    </tr>\n",
              "  </thead>\n",
              "  <tbody>\n",
              "    <tr>\n",
              "      <th>0</th>\n",
              "      <td>0</td>\n",
              "      <td>The Godfather</td>\n",
              "      <td>[u' Crime', u' Drama']</td>\n",
              "      <td>On the day of his only daughter's wedding, Vit...</td>\n",
              "      <td>In late summer 1945, guests are gathered for t...</td>\n",
              "    </tr>\n",
              "    <tr>\n",
              "      <th>1</th>\n",
              "      <td>1</td>\n",
              "      <td>The Shawshank Redemption</td>\n",
              "      <td>[u' Crime', u' Drama']</td>\n",
              "      <td>In 1947, banker Andy Dufresne is convicted of ...</td>\n",
              "      <td>In 1947, Andy Dufresne (Tim Robbins), a banker...</td>\n",
              "    </tr>\n",
              "    <tr>\n",
              "      <th>2</th>\n",
              "      <td>2</td>\n",
              "      <td>Schindler's List</td>\n",
              "      <td>[u' Biography', u' Drama', u' History']</td>\n",
              "      <td>In 1939, the Germans move Polish Jews into the...</td>\n",
              "      <td>The relocation of Polish Jews from surrounding...</td>\n",
              "    </tr>\n",
              "    <tr>\n",
              "      <th>3</th>\n",
              "      <td>3</td>\n",
              "      <td>Raging Bull</td>\n",
              "      <td>[u' Biography', u' Drama', u' Sport']</td>\n",
              "      <td>In a brief scene in 1964, an aging, overweight...</td>\n",
              "      <td>The film opens in 1964, where an older and fat...</td>\n",
              "    </tr>\n",
              "    <tr>\n",
              "      <th>4</th>\n",
              "      <td>4</td>\n",
              "      <td>Casablanca</td>\n",
              "      <td>[u' Drama', u' Romance', u' War']</td>\n",
              "      <td>It is early December 1941. American expatriate...</td>\n",
              "      <td>In the early years of World War II, December 1...</td>\n",
              "    </tr>\n",
              "  </tbody>\n",
              "</table>\n",
              "</div>\n",
              "    <div class=\"colab-df-buttons\">\n",
              "\n",
              "  <div class=\"colab-df-container\">\n",
              "    <button class=\"colab-df-convert\" onclick=\"convertToInteractive('df-73f8451f-01cd-4234-bce2-80d1beacec7d')\"\n",
              "            title=\"Convert this dataframe to an interactive table.\"\n",
              "            style=\"display:none;\">\n",
              "\n",
              "  <svg xmlns=\"http://www.w3.org/2000/svg\" height=\"24px\" viewBox=\"0 -960 960 960\">\n",
              "    <path d=\"M120-120v-720h720v720H120Zm60-500h600v-160H180v160Zm220 220h160v-160H400v160Zm0 220h160v-160H400v160ZM180-400h160v-160H180v160Zm440 0h160v-160H620v160ZM180-180h160v-160H180v160Zm440 0h160v-160H620v160Z\"/>\n",
              "  </svg>\n",
              "    </button>\n",
              "\n",
              "  <style>\n",
              "    .colab-df-container {\n",
              "      display:flex;\n",
              "      gap: 12px;\n",
              "    }\n",
              "\n",
              "    .colab-df-convert {\n",
              "      background-color: #E8F0FE;\n",
              "      border: none;\n",
              "      border-radius: 50%;\n",
              "      cursor: pointer;\n",
              "      display: none;\n",
              "      fill: #1967D2;\n",
              "      height: 32px;\n",
              "      padding: 0 0 0 0;\n",
              "      width: 32px;\n",
              "    }\n",
              "\n",
              "    .colab-df-convert:hover {\n",
              "      background-color: #E2EBFA;\n",
              "      box-shadow: 0px 1px 2px rgba(60, 64, 67, 0.3), 0px 1px 3px 1px rgba(60, 64, 67, 0.15);\n",
              "      fill: #174EA6;\n",
              "    }\n",
              "\n",
              "    .colab-df-buttons div {\n",
              "      margin-bottom: 4px;\n",
              "    }\n",
              "\n",
              "    [theme=dark] .colab-df-convert {\n",
              "      background-color: #3B4455;\n",
              "      fill: #D2E3FC;\n",
              "    }\n",
              "\n",
              "    [theme=dark] .colab-df-convert:hover {\n",
              "      background-color: #434B5C;\n",
              "      box-shadow: 0px 1px 3px 1px rgba(0, 0, 0, 0.15);\n",
              "      filter: drop-shadow(0px 1px 2px rgba(0, 0, 0, 0.3));\n",
              "      fill: #FFFFFF;\n",
              "    }\n",
              "  </style>\n",
              "\n",
              "    <script>\n",
              "      const buttonEl =\n",
              "        document.querySelector('#df-73f8451f-01cd-4234-bce2-80d1beacec7d button.colab-df-convert');\n",
              "      buttonEl.style.display =\n",
              "        google.colab.kernel.accessAllowed ? 'block' : 'none';\n",
              "\n",
              "      async function convertToInteractive(key) {\n",
              "        const element = document.querySelector('#df-73f8451f-01cd-4234-bce2-80d1beacec7d');\n",
              "        const dataTable =\n",
              "          await google.colab.kernel.invokeFunction('convertToInteractive',\n",
              "                                                    [key], {});\n",
              "        if (!dataTable) return;\n",
              "\n",
              "        const docLinkHtml = 'Like what you see? Visit the ' +\n",
              "          '<a target=\"_blank\" href=https://colab.research.google.com/notebooks/data_table.ipynb>data table notebook</a>'\n",
              "          + ' to learn more about interactive tables.';\n",
              "        element.innerHTML = '';\n",
              "        dataTable['output_type'] = 'display_data';\n",
              "        await google.colab.output.renderOutput(dataTable, element);\n",
              "        const docLink = document.createElement('div');\n",
              "        docLink.innerHTML = docLinkHtml;\n",
              "        element.appendChild(docLink);\n",
              "      }\n",
              "    </script>\n",
              "  </div>\n",
              "\n",
              "\n",
              "<div id=\"df-1863d4ed-01a5-478a-b76b-18c91939bca9\">\n",
              "  <button class=\"colab-df-quickchart\" onclick=\"quickchart('df-1863d4ed-01a5-478a-b76b-18c91939bca9')\"\n",
              "            title=\"Suggest charts\"\n",
              "            style=\"display:none;\">\n",
              "\n",
              "<svg xmlns=\"http://www.w3.org/2000/svg\" height=\"24px\"viewBox=\"0 0 24 24\"\n",
              "     width=\"24px\">\n",
              "    <g>\n",
              "        <path d=\"M19 3H5c-1.1 0-2 .9-2 2v14c0 1.1.9 2 2 2h14c1.1 0 2-.9 2-2V5c0-1.1-.9-2-2-2zM9 17H7v-7h2v7zm4 0h-2V7h2v10zm4 0h-2v-4h2v4z\"/>\n",
              "    </g>\n",
              "</svg>\n",
              "  </button>\n",
              "\n",
              "<style>\n",
              "  .colab-df-quickchart {\n",
              "      --bg-color: #E8F0FE;\n",
              "      --fill-color: #1967D2;\n",
              "      --hover-bg-color: #E2EBFA;\n",
              "      --hover-fill-color: #174EA6;\n",
              "      --disabled-fill-color: #AAA;\n",
              "      --disabled-bg-color: #DDD;\n",
              "  }\n",
              "\n",
              "  [theme=dark] .colab-df-quickchart {\n",
              "      --bg-color: #3B4455;\n",
              "      --fill-color: #D2E3FC;\n",
              "      --hover-bg-color: #434B5C;\n",
              "      --hover-fill-color: #FFFFFF;\n",
              "      --disabled-bg-color: #3B4455;\n",
              "      --disabled-fill-color: #666;\n",
              "  }\n",
              "\n",
              "  .colab-df-quickchart {\n",
              "    background-color: var(--bg-color);\n",
              "    border: none;\n",
              "    border-radius: 50%;\n",
              "    cursor: pointer;\n",
              "    display: none;\n",
              "    fill: var(--fill-color);\n",
              "    height: 32px;\n",
              "    padding: 0;\n",
              "    width: 32px;\n",
              "  }\n",
              "\n",
              "  .colab-df-quickchart:hover {\n",
              "    background-color: var(--hover-bg-color);\n",
              "    box-shadow: 0 1px 2px rgba(60, 64, 67, 0.3), 0 1px 3px 1px rgba(60, 64, 67, 0.15);\n",
              "    fill: var(--button-hover-fill-color);\n",
              "  }\n",
              "\n",
              "  .colab-df-quickchart-complete:disabled,\n",
              "  .colab-df-quickchart-complete:disabled:hover {\n",
              "    background-color: var(--disabled-bg-color);\n",
              "    fill: var(--disabled-fill-color);\n",
              "    box-shadow: none;\n",
              "  }\n",
              "\n",
              "  .colab-df-spinner {\n",
              "    border: 2px solid var(--fill-color);\n",
              "    border-color: transparent;\n",
              "    border-bottom-color: var(--fill-color);\n",
              "    animation:\n",
              "      spin 1s steps(1) infinite;\n",
              "  }\n",
              "\n",
              "  @keyframes spin {\n",
              "    0% {\n",
              "      border-color: transparent;\n",
              "      border-bottom-color: var(--fill-color);\n",
              "      border-left-color: var(--fill-color);\n",
              "    }\n",
              "    20% {\n",
              "      border-color: transparent;\n",
              "      border-left-color: var(--fill-color);\n",
              "      border-top-color: var(--fill-color);\n",
              "    }\n",
              "    30% {\n",
              "      border-color: transparent;\n",
              "      border-left-color: var(--fill-color);\n",
              "      border-top-color: var(--fill-color);\n",
              "      border-right-color: var(--fill-color);\n",
              "    }\n",
              "    40% {\n",
              "      border-color: transparent;\n",
              "      border-right-color: var(--fill-color);\n",
              "      border-top-color: var(--fill-color);\n",
              "    }\n",
              "    60% {\n",
              "      border-color: transparent;\n",
              "      border-right-color: var(--fill-color);\n",
              "    }\n",
              "    80% {\n",
              "      border-color: transparent;\n",
              "      border-right-color: var(--fill-color);\n",
              "      border-bottom-color: var(--fill-color);\n",
              "    }\n",
              "    90% {\n",
              "      border-color: transparent;\n",
              "      border-bottom-color: var(--fill-color);\n",
              "    }\n",
              "  }\n",
              "</style>\n",
              "\n",
              "  <script>\n",
              "    async function quickchart(key) {\n",
              "      const quickchartButtonEl =\n",
              "        document.querySelector('#' + key + ' button');\n",
              "      quickchartButtonEl.disabled = true;  // To prevent multiple clicks.\n",
              "      quickchartButtonEl.classList.add('colab-df-spinner');\n",
              "      try {\n",
              "        const charts = await google.colab.kernel.invokeFunction(\n",
              "            'suggestCharts', [key], {});\n",
              "      } catch (error) {\n",
              "        console.error('Error during call to suggestCharts:', error);\n",
              "      }\n",
              "      quickchartButtonEl.classList.remove('colab-df-spinner');\n",
              "      quickchartButtonEl.classList.add('colab-df-quickchart-complete');\n",
              "    }\n",
              "    (() => {\n",
              "      let quickchartButtonEl =\n",
              "        document.querySelector('#df-1863d4ed-01a5-478a-b76b-18c91939bca9 button');\n",
              "      quickchartButtonEl.style.display =\n",
              "        google.colab.kernel.accessAllowed ? 'block' : 'none';\n",
              "    })();\n",
              "  </script>\n",
              "</div>\n",
              "\n",
              "    </div>\n",
              "  </div>\n"
            ],
            "application/vnd.google.colaboratory.intrinsic+json": {
              "type": "dataframe",
              "variable_name": "data",
              "summary": "{\n  \"name\": \"data\",\n  \"rows\": 100,\n  \"fields\": [\n    {\n      \"column\": \"rank\",\n      \"properties\": {\n        \"dtype\": \"number\",\n        \"std\": 29,\n        \"min\": 0,\n        \"max\": 99,\n        \"num_unique_values\": 100,\n        \"samples\": [\n          83,\n          53,\n          70\n        ],\n        \"semantic_type\": \"\",\n        \"description\": \"\"\n      }\n    },\n    {\n      \"column\": \"title\",\n      \"properties\": {\n        \"dtype\": \"string\",\n        \"num_unique_values\": 100,\n        \"samples\": [\n          \"Nashville\",\n          \"The Treasure of the Sierra Madre\",\n          \"Rain Man\"\n        ],\n        \"semantic_type\": \"\",\n        \"description\": \"\"\n      }\n    },\n    {\n      \"column\": \"genre\",\n      \"properties\": {\n        \"dtype\": \"string\",\n        \"num_unique_values\": 61,\n        \"samples\": [\n          \"[u' Crime', u' Drama']\",\n          \"[u' Drama', u' Mystery']\",\n          \"[u' Biography', u' Drama', u' Romance']\"\n        ],\n        \"semantic_type\": \"\",\n        \"description\": \"\"\n      }\n    },\n    {\n      \"column\": \"wiki_plot\",\n      \"properties\": {\n        \"dtype\": \"string\",\n        \"num_unique_values\": 100,\n        \"samples\": [\n          \"The overarching plot takes place over five days leading up to a political rally for Replacement Party candidate Hal Phillip Walker, who is never seen throughout the entire movie. The story follows 24 characters roaming around Nashville, in search of some sort of goal through their own (often overlapping) story arcs.  The overarching plot takes place over five days leading up to a political rally for Replacement Party candidate Hal Phillip Walker, who is never seen throughout the entire movie. The story follows 24 characters roaming around Nashville, in search of some sort of goal through their own (often overlapping) story arcs.  \\n  Day One  Day One  Day One  \\n  The film opens with a campaign van for presidential candidate Hal Phillip Walker driving around Nashville as an external loudspeaker blares Walker's folksy political aphorisms, juxtaposed with country superstar Haven Hamilton (Henry Gibson) recording an overblown patriotic song intended to commemorate the upcoming Bicentennial, and growing irritated with the accompanying musicians in the studio. An Englishwoman named Opal (Geraldine Chaplin) who claims to be working on a documentary for the BBC appears in the studio but is told to leave by Haven. Down the hall from Haven's session is Linnea Reese (Lily Tomlin), a white gospel singer recording a song with a black choir.  The film opens with a campaign van for presidential candidate Hal Phillip Walker driving around Nashville as an external loudspeaker blares Walker's folksy political aphorisms, juxtaposed with country superstar Haven Hamilton (  Henry Gibson  Henry Gibson  ) recording an overblown patriotic song intended to commemorate the upcoming   Bicentennial  Bicentennial  , and growing irritated with the accompanying musicians in the studio. An Englishwoman named Opal (  Geraldine Chaplin  Geraldine Chaplin  ) who claims to be working on a documentary for the   BBC  BBC   appears in the studio but is told to leave by Haven. Down the hall from Haven's session is Linnea Reese (  Lily Tomlin  Lily Tomlin  ), a white gospel singer recording a song with a black choir.  \\n  Later that day, popular country singer Barbara Jean (Ronee Blakley) is returning to Nashville, having recovered from a burn accident, and the elite of Nashville's music scene - including Haven Hamilton and his companion Lady Pearl (Barbara Baxley) have converged on Berry Field to greet her plane as it arrives. Also present are Pfc. Glenn Kelly (Scott Glenn) and the popular folk trio \\\"Bill, Mary, and Tom\\\" who are in town to record an album. Bill (Allan F. Nicholls) and Mary (Cristina Raines) are married, but largely unhappy, partly due to the fact that Mary is in love with womanizing Tom (Keith Carradine). Meanwhile, Mr. Green (Keenan Wynn) arrives at the airport to pick up his niece, Martha (Shelley Duvall), aka \\\"L.A. Joan\\\", a teenage groupie who has come to Nashville ostensibly to visit her aunt Esther Green who is sick in the hospital. However, Martha repeatedly puts off visiting her aunt in favor of chasing after male musicians. Working at the airport restaurant are African-American cook Wade Cooley (Robert DoQui), and his pretty waitress friend, Sueleen Gay (Gwen Welles), an aspiring country singer who refuses to recognize that she can't carry a tune.  Later that day, popular country singer Barbara Jean (  Ronee Blakley  Ronee Blakley  ) is returning to Nashville, having recovered from a burn accident, and the elite of Nashville's music scene - including Haven Hamilton and his companion Lady Pearl (  Barbara Baxley  Barbara Baxley  ) have converged on   Berry Field  Berry Field   to greet her plane as it arrives. Also present are   Pfc.  Pfc.   Glenn Kelly (  Scott Glenn  Scott Glenn  ) and the popular folk trio \\\"Bill, Mary, and Tom\\\" who are in town to record an album. Bill (  Allan F. Nicholls  Allan F. Nicholls  ) and Mary (  Cristina Raines  Cristina Raines  ) are married, but largely unhappy, partly due to the fact that Mary is in love with womanizing Tom (  Keith Carradine  Keith Carradine  ). Meanwhile, Mr. Green (  Keenan Wynn  Keenan Wynn  ) arrives at the airport to pick up his niece, Martha (  Shelley Duvall  Shelley Duvall  ), aka \\\"L.A. Joan\\\", a teenage groupie who has come to Nashville ostensibly to visit her aunt Esther Green who is sick in the hospital. However, Martha repeatedly puts off visiting her aunt in favor of chasing after male musicians. Working at the airport restaurant are African-American cook Wade Cooley (  Robert DoQui  Robert DoQui  ), and his pretty waitress friend, Sueleen Gay (  Gwen Welles  Gwen Welles  ), an aspiring country singer who refuses to recognize that she can't carry a tune.  \\n  After greeting the crowds on the tarmac, Barbara Jean faints due to the heat, and her handlers, headed by her domineering husband-manager Barnett (Allen Garfield), rush her to the hospital. Barbara Jean's appearance having been cut short, those in attendance depart the airport and wind up stranded on the highway after a pile-up occurs. During the commotion, Winifred (Barbara Harris), an aspiring country singer, runs away from her husband, Star (Bert Remsen), after he refuses to take her to the Grand Ole Opry. Star gives a ride to Kenny Frasier (David Hayward), who has just arrived in town carrying a violin case. Opal takes advantage of the traffic jam to interview first Linnea and then Tommy Brown (Timmy Brown), an African-American country singer who is performing at the Opry. Tommy and his entourage go to Lady Pearl's club but Wade, who is drinking and trying to pick up white girls at the bar, insults Tommy for being too \\\"white\\\" and starts a fight.  After greeting the crowds on the tarmac, Barbara Jean faints due to the heat, and her handlers, headed by her domineering husband-manager Barnett (  Allen Garfield  Allen Garfield  ), rush her to the hospital. Barbara Jean's appearance having been cut short, those in attendance depart the airport and wind up stranded on the highway after a   pile-up  pile-up   occurs. During the commotion, Winifred (  Barbara Harris  Barbara Harris  ), an aspiring country singer, runs away from her husband, Star (  Bert Remsen  Bert Remsen  ), after he refuses to take her to the   Grand Ole Opry  Grand Ole Opry  . Star gives a ride to Kenny Frasier (David Hayward), who has just arrived in town carrying a violin case. Opal takes advantage of the traffic jam to interview first Linnea and then Tommy Brown (  Timmy Brown  Timmy Brown  ), an African-American country singer who is performing at the Opry. Tommy and his entourage go to Lady Pearl's club but Wade, who is drinking and trying to pick up white girls at the bar, insults Tommy for being too \\\"white\\\" and starts a fight.  \\n  Linnea's husband, Del Reese (Ned Beatty) is working with political organizer, John Triplette (Michael Murphy) to plan a small fundraiser and a large outdoor concert gala for the Walker campaign. Sueleen appears at a local club's open mike night in a provocative outfit, and despite her lack of singing ability, club manager Trout (Merle Kilgore) recommends her to Triplette for the fundraiser based on her appearance. Winifred shows up at Trout's club trying to recruit musicians to record a demo with her, but Star sees her and chases her out. Del invites Triplette for family dinner with Linnea and their two deaf children. Linnea and Del are having communication problems and she focuses on the children rather than on him. In the middle of dinner, Tom calls trying to make a date with Linnea, but she puts him off, so he takes Opal back to his room instead. Pfc. Kelly sneaks into Barbara Jean's hospital room and sits in the chair by her bed all night, watching her sleep.  Linnea's husband, Del Reese (  Ned Beatty  Ned Beatty  ) is working with political organizer, John Triplette (  Michael Murphy  Michael Murphy  ) to plan a small fundraiser and a large outdoor concert gala for the Walker campaign. Sueleen appears at a local club's open mike night in a provocative outfit, and despite her lack of singing ability, club manager Trout (  Merle Kilgore  Merle Kilgore  ) recommends her to Triplette for the fundraiser based on her appearance. Winifred shows up at Trout's club trying to recruit musicians to record a demo with her, but Star sees her and chases her out. Del invites Triplette for family dinner with Linnea and their two deaf children. Linnea and Del are having communication problems and she focuses on the children rather than on him. In the middle of dinner, Tom calls trying to make a date with Linnea, but she puts him off, so he takes Opal back to his room instead. Pfc. Kelly sneaks into Barbara Jean's hospital room and sits in the chair by her bed all night, watching her sleep.  \\n  Day Two  Day Two  Day Two  \\n  Tom calls Linnea again but, with Del listening on the other line, Linnea yells at Tom and tells him not to call her any more. Kenny rents a room from Mr. Green. Haven Hamilton throws a pre-show party at his house before the evening's Grand Ole Opry performance. At the party, Triplette tries to persuade Haven to perform at the Walker gala by telling him that if Walker is elected, Walker would back Haven for state governor. Haven says he'll give Triplette his decision after the Opry show that night.  Tom calls Linnea again but, with Del listening on the other line, Linnea yells at Tom and tells him not to call her any more. Kenny rents a room from Mr. Green. Haven Hamilton throws a pre-show party at his house before the evening's   Grand Ole Opry  Grand Ole Opry   performance. At the party, Triplette tries to persuade Haven to perform at the Walker gala by telling him that if Walker is elected, Walker would back Haven for state governor. Haven says he'll give Triplette his decision after the Opry show that night.  \\n  Later, Tommy Brown, Haven, and Connie White (Karen Black) all perform at the Opry. Connie is substituting for the hospitalized Barbara Jean. Winifred tries unsuccessfully to get backstage. At the hospital, Barbara Jean and Barnett have an argument because he is going to the after-show gathering to thank Connie for substituting at the last minute. Barbara Jean doesn't want him to go and he accuses her of having another nervous breakdown like she did previously. Barnett finally subdues Barbara Jean and leaves, but Connie doesn't seem happy to see him. Haven tells Triplette that Barbara Jean and Connie never appear on the same stage, and that he (Haven) will appear anyplace Barbara Jean also appears. Bill gets upset when his wife Mary doesn't show up all evening; she is sleeping with Tom.  Later, Tommy Brown, Haven, and Connie White (  Karen Black  Karen Black  ) all perform at the Opry. Connie is substituting for the hospitalized Barbara Jean. Winifred tries unsuccessfully to get backstage. At the hospital, Barbara Jean and Barnett have an argument because he is going to the after-show gathering to thank Connie for substituting at the last minute. Barbara Jean doesn't want him to go and he accuses her of having another nervous breakdown like she did previously. Barnett finally subdues Barbara Jean and leaves, but Connie doesn't seem happy to see him. Haven tells Triplette that Barbara Jean and Connie never appear on the same stage, and that he (Haven) will appear anyplace Barbara Jean also appears. Bill gets upset when his wife Mary doesn't show up all evening; she is sleeping with Tom.  \\n  Day Three  Day Three  Day Three  \\n  It is Sunday morning and the characters are shown attending various local church services. A Roman Catholic service includes Lady Pearl, Wade and Sueleen in attendance; Haven Hamilton sings in the choir at a Protestant service; and Linnea is seen in the choir at a black Protestant church as a baptism is taking place. At the hospital chapel, Barbara Jean sings \\\"In the Garden\\\" from her wheelchair while Mr. Green and Pfc. Kelly, among others, watch. Mr. Green tells Kelly how he and his wife lost their son in WWII. Opal wanders alone through a huge auto scrapyard making free-form poetic speeches about the cars into her tape recorder. Haven, Tommy Brown and their families attend the stock car races, where Winifred also attempts to sing on a small stage but cannot be heard. Bill and Mary argue in their hotel room and are interrupted by Triplette, who wants to recruit them for the Walker concert gala. Tom tries to get chauffeur Norman (David Arkin) to score him some pills.  It is Sunday morning and the characters are shown attending various local church services. A   Roman Catholic  Roman Catholic   service includes Lady Pearl, Wade and Sueleen in attendance; Haven Hamilton sings in the choir at a Protestant service; and Linnea is seen in the choir at a   black Protestant church  black Protestant church   as a baptism is taking place. At the hospital chapel, Barbara Jean sings   \\\"In the Garden\\\"  \\\"In the Garden\\\"   from her wheelchair while Mr. Green and Pfc. Kelly, among others, watch. Mr. Green tells Kelly how he and his wife lost their son in WWII. Opal wanders alone through a huge auto scrapyard making free-form poetic speeches about the cars into her tape recorder. Haven, Tommy Brown and their families attend the stock car races, where Winifred also attempts to sing on a small stage but cannot be heard. Bill and Mary argue in their hotel room and are interrupted by Triplette, who wants to recruit them for the Walker concert gala. Tom tries to get chauffeur Norman (  David Arkin  David Arkin  ) to score him some pills.  \\n  Day Four  Day Four  Day Four  \\n  Opal walks alone through a large school bus parking lot making more strange observations into her tape recorder. Barbara Jean is discharged from the hospital at the same time Mr. Green shows up to visit his sick wife. Barbara Jean asks after his wife and sends her regards. After Barbara Jean and her entourage have left, a nurse tells Mr. Green his wife died earlier that morning. Back at Mr. Green's house, Kenny gets upset when Martha tries to look at his violin case.  Opal walks alone through a large school bus parking lot making more strange observations into her tape recorder. Barbara Jean is discharged from the hospital at the same time Mr. Green shows up to visit his sick wife. Barbara Jean asks after his wife and sends her regards. After Barbara Jean and her entourage have left, a nurse tells Mr. Green his wife died earlier that morning. Back at Mr. Green's house, Kenny gets upset when Martha tries to look at his violin case.  \\n  Barbara Jean performs at Opryland USA. Triplette and Del attend and try to convince Barnett to have Barbara Jean play the Walker concert gala at the Parthenon the next day, but he refuses. Barbara Jean gets through the first couple of songs all right, but then begins to tell rambling stories about her childhood instead of starting the next song. After several false starts, Barnett escorts her from the stage and tells the disappointed audience that they can come to the Parthenon tomorrow and see Barbara Jean perform for free, thus committing her to the Walker concert.  Barbara Jean performs at   Opryland USA  Opryland USA  . Triplette and Del attend and try to convince Barnett to have Barbara Jean play the Walker concert gala at the   Parthenon  Parthenon   the next day, but he refuses. Barbara Jean gets through the first couple of songs all right, but then begins to tell rambling stories about her childhood instead of starting the next song. After several false starts, Barnett escorts her from the stage and tells the disappointed audience that they can come to the Parthenon tomorrow and see Barbara Jean perform for free, thus committing her to the Walker concert.  \\n  Tom calls Linnea and invites her to meet him that night at a club where he is playing. Linnea arrives but sits by herself because Martha is trying to pick Tom up. Mary and Bill are also there, and Opal sits with them and talks about how she slept with Tom, causing Mary to become upset. Wade tries unsuccessfully to pick up Linnea, while Norman tries equally unsuccessfully to pick up Opal. Tom sings \\\"I'm Easy\\\" and Linnea, moved, goes back to his room where they make love. When Linnea needs to leave, Tom calls another woman and has a romantic conversation within Linnea's earshot while she is getting dressed to go home.  Tom calls Linnea and invites her to meet him that night at a club where he is playing. Linnea arrives but sits by herself because Martha is trying to pick Tom up. Mary and Bill are also there, and Opal sits with them and talks about how she slept with Tom, causing Mary to become upset. Wade tries unsuccessfully to pick up Linnea, while Norman tries equally unsuccessfully to pick up Opal. Tom sings \\\"  I'm Easy  I'm Easy  \\\" and Linnea, moved, goes back to his room where they make love. When Linnea needs to leave, Tom calls another woman and has a romantic conversation within Linnea's earshot while she is getting dressed to go home.  \\n  Sueleen appears at the all-male Walker fundraiser, but is booed off the stage when she sings poorly and doesn't take off her clothes. Del and Triplette explain that the men expect her to strip and that if she does so, they will let her sing the next day at the Parthenon with Barbara Jean. Sueleen is visibly upset but strips anyway. Winifred shows up at the fundraiser hoping to get a chance to sing, but after she sees what is going on, she stays hidden behind a curtain. Del drives Sueleen home and drunkenly comes on to her, but she is rescued by Wade. After he hears what happened, Wade tells Sueleen she can't sing and asks her to go back to Detroit with him the next day. Sueleen refuses because she is determined to sing at the Parthenon with Barbara Jean.  Sueleen appears at the all-male Walker fundraiser, but is booed off the stage when she sings poorly and doesn't take off her clothes. Del and Triplette explain that the men expect her to strip and that if she does so, they will let her sing the next day at the Parthenon with Barbara Jean. Sueleen is visibly upset but strips anyway. Winifred shows up at the fundraiser hoping to get a chance to sing, but after she sees what is going on, she stays hidden behind a curtain. Del drives Sueleen home and drunkenly comes on to her, but she is rescued by Wade. After he hears what happened, Wade tells Sueleen she can't sing and asks her to go back to Detroit with him the next day. Sueleen refuses because she is determined to sing at the Parthenon with Barbara Jean.  \\n  Day Five  Day Five  Day Five  \\n  The performers, audience and Walker and his entourage arrive for the Parthenon concert. In the performing lineup are Haven, Barbara Jean, Linnea and her choir, Bill, Mary and Tom, Sueleen, and Winifred who has shown up again hoping for a chance to sing. Barnett gets upset because Barbara Jean will have to perform in front of a large Walker advertisement, but has to go along with it because his wife's career will be harmed if he pulls her out of the show. Mr. Green and Kenny attend Esther Green's burial service and Mr. Green leaves angrily, vowing to find Martha (who is not at the service) and make her show some respect to her aunt. Mr. Green and Kenny go to the Parthenon to look for Martha.  The performers, audience and Walker and his entourage arrive for the   Parthenon  Parthenon   concert. In the performing lineup are Haven, Barbara Jean, Linnea and her choir, Bill, Mary and Tom, Sueleen, and Winifred who has shown up again hoping for a chance to sing. Barnett gets upset because Barbara Jean will have to perform in front of a large Walker advertisement, but has to go along with it because his wife's career will be harmed if he pulls her out of the show. Mr. Green and Kenny attend Esther Green's burial service and Mr. Green leaves angrily, vowing to find Martha (who is not at the service) and make her show some respect to her aunt. Mr. Green and Kenny go to the Parthenon to look for Martha.  \\n  The Walker gala starts and Haven and Barbara Jean perform a song together, then Barbara Jean sings a solo song. At the end of the song, Kenny takes a gun from his violin case and shoots Haven and Barbara Jean. Pfc. Kelly disarms Kenny as chaos breaks out. Barbara Jean is carried bleeding and unconscious from the stage. Haven tries to calm the crowd by exhorting them to sing, asserting that \\\"This isn't Dallas\\\", in reference to the assassination of John F. Kennedy in that city a few years earlier. As he is led from the stage for treatment of his wounds, he hands the microphone off to Winifred, who begins to sing \\\"It Don't Worry Me\\\" and is joined by Linnea's gospel choir. The film ends with the audience raptly listening to Winifred's song\\u2014she has finally gotten her big break.  The Walker gala starts and Haven and Barbara Jean perform a song together, then Barbara Jean sings a solo song. At the end of the song, Kenny takes a gun from his violin case and shoots Haven and Barbara Jean. Pfc. Kelly disarms Kenny as chaos breaks out. Barbara Jean is carried bleeding and unconscious from the stage. Haven tries to calm the crowd by exhorting them to sing, asserting that \\\"This isn't Dallas\\\", in reference to the   assassination of John F. Kennedy  assassination of John F. Kennedy   in that city a few years earlier. As he is led from the stage for treatment of his wounds, he hands the microphone off to Winifred, who begins to sing \\\"It Don't Worry Me\\\" and is joined by Linnea's gospel choir. The film ends with the audience raptly listening to Winifred's song\\u2014she has finally gotten her big break.  \\n \",\n          \"Dobbs (Humphrey Bogart) and Curtin (Tim Holt), cheated out of promised wages and down on their luck, meet old prospector Howard (Walter Huston) in the Mexican oil-town of Tampico. They set out to strike it rich by searching for gold in the remote Sierra Madre mountains.  Dobbs (  Humphrey Bogart  Humphrey Bogart  ) and Curtin (  Tim Holt  Tim Holt  ), cheated out of promised wages and down on their luck, meet old prospector Howard (  Walter Huston  Walter Huston  ) in the Mexican oil-town of   Tampico  Tampico  . They set out to strike it rich by searching for gold in the remote   Sierra Madre  Sierra Madre   mountains.  \\n  They ride a train into the hinterlands, surviving a bandit attack en route. In the desert, Howard proves to be the toughest and most knowledgeable; he is the one to discover the gold they seek. A mine is dug, and much gold is extracted. Greed soon sets in, and Dobbs begins to lose both his trust and his sanity, lusting to possess the entire treasure. Dobbs is also unreasonably afraid that he will be killed by his partners.  They ride a train into the hinterlands, surviving a bandit attack en route. In the desert, Howard proves to be the toughest and most knowledgeable; he is the one to discover the gold they seek. A mine is dug, and much gold is extracted. Greed soon sets in, and Dobbs begins to lose both his trust and his sanity, lusting to possess the entire treasure. Dobbs is also unreasonably afraid that he will be killed by his partners.  \\n  A fourth American named James Cody (Bruce Bennett) appears, which sets up a moral debate about what to do with the new stranger. The men decide to kill Cody, but just as the three confront him with pistols and prepare to kill him, the bandits reappear, crudely pretending to be Federales. (This results in a now-famous exchange between Dobbs and the bandits about not needing to show any \\\"stinking badges.\\\") After a gunfight with the bandits, in which Cody is killed, a real troop of Federales appears and chases the bandits away.  A fourth American named James Cody (  Bruce Bennett  Bruce Bennett  ) appears, which sets up a moral debate about what to do with the new stranger. The men decide to kill Cody, but just as the three confront him with pistols and prepare to kill him, the bandits reappear, crudely pretending to be   Federales  Federales  . (This results in a now-famous exchange between Dobbs and the bandits about not needing to show any \\\"  stinking badges  stinking badges  .\\\") After a gunfight with the bandits, in which Cody is killed, a real troop of Federales appears and chases the bandits away.  \\n  Howard is called away to assist some local villagers in saving a little boy. The next day he is asked, without the option of declining, to go back to the village to be honored. However, he leaves his goods with Dobbs and Curtin. Dobbs, whose paranoia continues, and Curtin constantly argue, until one night when Curtin falls asleep, Dobbs holds him at gunpoint, takes him behind the camp, shoots him, grabs all three shares of the gold, and leaves him for dead. However, the wounded Curtin survives and manages to crawl away during the night.  Howard is called away to assist some local villagers in saving a little boy. The next day he is asked, without the option of declining, to go back to the village to be honored. However, he leaves his goods with Dobbs and Curtin. Dobbs, whose paranoia continues, and Curtin constantly argue, until one night when Curtin falls asleep, Dobbs holds him at gunpoint, takes him behind the camp, shoots him, grabs all three shares of the gold, and leaves him for dead. However, the wounded Curtin survives and manages to crawl away during the night.  \\n  Dobbs is later ambushed and killed by some of the bandits. In their ignorance, the bandits believe Dobbs' bags of unrefined gold are merely filled with sand, and they scatter the gold to the winds. Curtin is discovered by indios and taken to Howard's village, where he recovers. The bandits try to sell the packing donkeys but a child recognizes the donkeys and Dobbs' clothes and reports them to the police. The bandits are captured, sentenced to death and forced to dig their own graves before being executed. Curtin and Howard miss witnessing the bandits' execution by Federales by only a few minutes as they arrive back in town, and learn that the gold is gone.  Dobbs is later ambushed and killed by some of the bandits. In their ignorance, the bandits believe Dobbs' bags of unrefined gold are merely filled with   sand  sand  , and they scatter the gold to the winds. Curtin is discovered by   indios  indios   and taken to Howard's village, where he recovers. The bandits try to sell the packing donkeys but a child recognizes the donkeys and Dobbs' clothes and reports them to the police. The bandits are captured, sentenced to death and forced to dig their own graves before being executed. Curtin and Howard miss witnessing the bandits' execution by Federales by only a few minutes as they arrive back in town, and learn that the gold is gone.  \\n  While checking the area where the bandits dropped the gold, Howard realizes that the winds must have carried the gold away. They accept the loss with equanimity, and then part ways, Howard returning to the indio village, where the natives have offered him a permanent home and position of honour within the village and its people, and Curtin returning home to the United States.  While checking the area where the bandits dropped the gold, Howard realizes that the winds must have carried the gold away. They accept the loss with equanimity, and then part ways, Howard returning to the   indio  indio   village, where the natives have offered him a permanent home and position of honour within the village and its people, and Curtin returning home to the United States.  \\n \",\n          \"Charlie Babbitt is in the middle of importing four Lamborghinis to Los Angeles for resale. He needs to deliver the vehicles to impatient buyers who have already made down payments in order to repay the loan he took out to buy the cars, but the EPA is holding the cars at the port due to the cars failing emissions regulations. Charlie directs an employee to lie to the buyers while he stalls his creditor.  Charlie Babbitt is in the middle of importing four   Lamborghinis  Lamborghinis   to   Los Angeles  Los Angeles   for resale. He needs to deliver the vehicles to impatient buyers who have already made down payments in order to repay the loan he took out to buy the cars, but the   EPA  EPA   is holding the cars at the port due to the cars failing   emissions regulations  emissions regulations  . Charlie directs an employee to lie to the buyers while he stalls his creditor.  \\n  When Charlie learns that his estranged father has died, he and his girlfriend Susanna travel to Cincinnati, Ohio in order to settle the estate. He learns he is receiving the classic 1949 Buick Roadmaster convertible, over which he and his father fought, and his father's rosebushes, but the bulk of the $3 million estate is going to an unnamed trustee. Through social engineering he learns the money is being directed to a mental institution where he meets his older brother, Raymond Babbitt, of whose existence he was previously unaware.  When Charlie learns that his estranged father has died, he and his girlfriend Susanna travel to   Cincinnati, Ohio  Cincinnati, Ohio   in order to settle the estate. He learns he is receiving the classic 1949   Buick Roadmaster  Buick Roadmaster   convertible, over which he and his father fought, and his father's rosebushes, but the bulk of the $3 million estate is going to an unnamed   trustee  trustee  . Through   social engineering  social engineering   he learns the money is being directed to a   mental institution  mental institution   where he meets his older brother, Raymond Babbitt, of whose existence he was previously unaware.  \\n  Raymond has autism and adheres to strict routines such as always watching The People's Court. He has superb recall but he shows little emotional expression except when in distress. Charlie spirits Raymond out of the mental institution and into a hotel for the night. Susanna becomes upset with the way Charlie treats his brother and leaves. Charlie asks Raymond's doctor, Dr. Gerald R. Bruner for half the estate in exchange for Raymond's return, but he refuses. Charlie decides to attempt to gain custody of his brother in order to get control of the money.  Raymond has   autism  autism   and adheres to strict routines such as always watching   The People's Court  The People's Court  The People's Court  . He has   superb recall  superb recall   but he shows little emotional expression except when in distress. Charlie spirits Raymond out of the mental institution and into a hotel for the night. Susanna becomes upset with the way Charlie treats his brother and leaves. Charlie asks Raymond's doctor, Dr. Gerald R. Bruner for half the estate in exchange for Raymond's return, but he refuses. Charlie decides to attempt to gain custody of his brother in order to get control of the money.  \\n  After Raymond refuses to fly back to Los Angeles because he remembers every airline crash and is worried about getting hurt they set out on a cross-country road trip together. During the course of the journey, Charlie learns more about Raymond, including that he is a mental calculator with the ability to instantly count hundreds of objects at once, far beyond the normal range of human subitizing abilities. He also learns that, like him, Raymond loves The Beatles. It is revealed that Raymond actually lived with the family when Charlie was young and he realizes that the comforting figure from his childhood, whom he falsely remembered as an imaginary friend named \\\"Rain Man\\\", was actually Raymond.  After Raymond refuses to fly back to Los Angeles because he remembers every airline crash and is worried about getting hurt they set out on a cross-country road trip together. During the course of the journey, Charlie learns more about Raymond, including that he is a   mental calculator  mental calculator   with the ability to instantly count hundreds of objects at once, far beyond the normal range of human   subitizing  subitizing   abilities. He also learns that, like him, Raymond loves   The Beatles  The Beatles  . It is revealed that Raymond actually lived with the family when Charlie was young and he realizes that the comforting figure from his childhood, whom he falsely remembered as an imaginary friend named \\\"Rain Man\\\", was actually Raymond.  \\n  They make slow progress on their cross country trip because Raymond insists on sticking to his routines, which include watching Judge Wapner on television every day and getting to bed by 11:00 PM. He also objects to traveling on the interstate after they pass a bad accident.  They make slow progress on their cross country trip because Raymond insists on sticking to his routines, which include watching   Judge Wapner  Judge Wapner   on television every day and getting to bed by 11:00 PM. He also objects to traveling on the   interstate  interstate   after they pass a bad accident.  \\n  After the Lamborghinis are seized by his creditor, Charlie finds himself $80,000 in debt and hatches a plan to return to Las Vegas, which they passed the night before, and win money at blackjack by counting cards. Though the casino bosses are skeptical that anyone can count cards with a six deck shoe, after reviewing security footage they ask Charlie and Raymond to leave. However, Charlie has made enough to cover his debts and has reconciled with Susanna who rejoined them in Las Vegas.  After the Lamborghinis are seized by his creditor, Charlie finds himself $80,000 in debt and hatches a plan to return to   Las Vegas  Las Vegas  , which they passed the night before, and win money at   blackjack  blackjack   by   counting cards  counting cards  . Though the casino bosses are skeptical that anyone can count cards with a six deck   shoe  shoe  , after reviewing security footage they ask Charlie and Raymond to leave. However, Charlie has made enough to cover his debts and has reconciled with Susanna who rejoined them in Las Vegas.  \\n  Back in Los Angeles, Charlie meets with Dr. Bruner, who offers him $250,000 to walk away from Raymond. Charlie refuses and says that he is no longer upset about what his father left him, but he wants to have a relationship with his brother. At a meeting with a court-appointed psychiatrist (Levinson, in an uncredited cameo), Raymond is shown to be unable to decide for himself what he wants. Charlie stops the questioning and tells Raymond he is happy to have him as his brother.  Back in Los Angeles, Charlie meets with Dr. Bruner, who offers him $250,000 to walk away from Raymond. Charlie refuses and says that he is no longer upset about what his father left him, but he wants to have a relationship with his brother. At a meeting with a court-appointed psychiatrist (  Levinson  Levinson  , in an uncredited cameo), Raymond is shown to be unable to decide for himself what he wants. Charlie stops the questioning and tells Raymond he is happy to have him as his brother.  \\n  In the final scene, Charlie brings Raymond to the train station where he boards an Amtrak train with Dr. Bruner to return to the mental institution. Charlie promises Raymond that he will visit in two weeks.  In the final scene, Charlie brings Raymond to the train station where he boards an   Amtrak  Amtrak   train with Dr. Bruner to return to the mental institution. Charlie promises Raymond that he will visit in two weeks.  \\n \"\n        ],\n        \"semantic_type\": \"\",\n        \"description\": \"\"\n      }\n    },\n    {\n      \"column\": \"imdb_plot\",\n      \"properties\": {\n        \"dtype\": \"string\",\n        \"num_unique_values\": 90,\n        \"samples\": [\n          \"Elia Kazan,who directed the Broadway play on which the black and white film is based, invited Marlon Brando, the male lead, and Kim Hunter and Karl Malden, his supporting cast, to repeat their Broadway triumphs in the film remake.Brando plays Stanley, a poor boy who grew up tainted by ethnic slurs, made financially stable by the fortunes of the second world war. He does well as a blue collar travelling salesman, moves to New Orleans and marries Stella (Hunter), daughter of an Aristocratic MIssissippi family anxious to escape the war;s invitable destruction of her family's land, wealth, property and social status. Stanley has never met his sister-in-law Blanche, the female lead of the play ,Vivien Leigh in the movie remake. Blanche arranges a visit to see her sister in New Orleans and shows up on Stanley's doorstop obviously annoyed that there is neither a guest bedroom for herself nor a master bedroom for her sister and brother-in-law, in their cramped, dingy apartment in a bustling quarter of the city. The tensions of wartime emergency cohabitation of family members somehow forced to move in with each other in tight, cramped quarters because of the fortunes of war are noted when it is obvious that Blanche and Stanley immediately get on each others' nerves, especially when Blanche, who passes herself off as the only Aristocrat in her new neighborhood, is the only one in her new neighborhood who actually resorts to tough bar language and ethnic slurs in passing conversation. This becomes no ordinary domestic quarrel when their tensions escalate beyond a war of words to hurtful, spiteful deeds and then to climatic physical violence. Hollywood icons Marlon Brando and Vivien Leigh are given close, tight photography in their lengthy scenes of escalating conflict, played with such deep insight and such technical brilliance that the audience is given pause, from moment to moment. to decide whether one really has a point and the other should really be apprehended by the authorities. Stanley first wants to know why Blanche seems to be planning to stay for life and what happened to his wife's claim on the family fortune, land, property and social status. Blanche wants Stanley to give up his weekly card game and his weekly bowling tournament with his friends including Mitch (Malden), to stay at home always sweating in his dirtied work clothes because he will have no place to wash and change with a lady in his house, sitting silent like a statue, until he decides it is time to just turn his paycheck over to Stella and move out so Blanche can rule the roost.\\nWhen Blanche attracts the attention of lonely Mitch who sees the remnants of her Aristocratic upbringing, Stanley investigates, through a friend travelling in Mississippi, why his emotionally disturbed, alcoholic, child molesting sister-in-law was fired from her job and kicked out of her boarding house. A telling interlude has Stanley striking Stella for interfering with his treatment of Blanche. She escapes to the upstairs apartment of her landlady (Peg Hillias), but is so dependent upon Stanley that she returns to him when he goes into the yard and calls for her to come back. Things do not go well for Blanche when Stella goes to the hospital to give birth to her child just after a teenage boy accuses her of making improper advances when he came to her door to collect money for Stanley's periodical subscription and Mitch dumps her. There is surrealistic moment, to be individually sorted out by each viewer, when Blanche insists she is going to cut up Stanley's face with the jagged edges of a broken liquor bottle and then insists he is going to rape her. The play and the movie cuts from the blackout to a scene some time later when Stella is putting her baby to sleep in the front yard, Stanley is having his card game over, and authorities arrive from the local mental institution to put Blanche away for life.The landlady calls Stella to the bathroom, where Blanche is soaking up her cares in another hot water tub and wants the ladies to dress her in her faded, fake finery so a nonexistent gentleman friend can escort her on a nonexistent world cruise. Stella, Mitch and the landlady seem in agreement that Blanche is an innocent flower ravaged by wartime whom Stanley destroyed with his crude bullying.\\n\\n\",\n          \"Promising FBI Academy student Clarice Starling is pulled from her training at the FBI Training Facility at Quantico, Virginia by Jack Crawford of the FBI's Behavioral Science Unit, who tasks her with presenting a VICAP questionnaire to the notorious Dr. Hannibal Lecter, a brilliant forensic psychiatrist and incarcerated cannibalistic serial murderer. After learning the assignment relates to the pursuit of vicious serial killer Buffalo Bill, Starling travels to the Baltimore State Hospital for the Criminally Insane and is led by Dr. Frederick Chilton to Hannibal Lecter, a sophisticated, cultured man restrained behind thick glass panels and windowless stone walls. Although initially pleasant and courteous, Lecter grows impatient with Starling's attempts at \\\"dissecting\\\" him and viciously rebuffs her. As Starling departs, another patient flings fresh semen onto her face, enraging Lecter who calls Starling back and offers a riddle containing information about a former patient. The solved riddle leads to a rent-a-storage lot where the severed head of Benjamin Raspail is found. Starling returns to Lecter, who links Raspail to Buffalo Bill and who offers to help profile Buffalo Bill if he is transferred to a facility far from the venomous, careerist Dr. Chilton.Hours and miles away, Buffalo Bill abducts Catherine Martin, the daughter of United States Senator Ruth Martin. Starling is pulled from Quantico and accompanies Crawford to West Virginia, where the body of Bill's recently-discovered victim resides, and where Starling helps perform the autopsy and extracts the chrysalis of a Death's-head Hawkmoth from the victim's throat. At Quantico, as news of Catherine Martin's abduction sweeps the country, Crawford authorizes Starling to offer Hannibal Lecter a fake deal promising a prison transfer if he provides information that helps profile Buffalo Bill and rescue Catherine Martin. Instead, Lecter begins a game of quid pro quo with Starling, offering comprehensive clues and insights about Buffalo Bill in exchange for events from Starling's traumatic childhood. Unaware to both Starling and Lecter, Dr. Frederick Chilton tapes the conversation and after revealing Starling's deal as a sham, offers to transfer Lecter in exchange for a deal of his own making. Lecter agrees and following a flight to Tennessee reveals Buffalo Bill's real name, physical description and past address to Senator Martin and her entourage of FBI agents and Justice Department officials.As the manhunt begins, Starling travels to Lecter's special cell in a local Tennessee courthouse, where she confronts him about the false information he gave the Senator. Lecter refuses Starling's pleas and demands she finish her story surrounding her worst childhood memory. After recounting her arrival at a relative's farm, the horror of discovering their lamb slaughterhouse and her fruitless attempts at rescuing the lambs, Lecter rebuffs her, leaving her with her case file before she is escorted out of the building by security guards. Later that evening, Lecter escapes from his cell. The local police storm the floor, discovering one guard barely alive and the other disemboweled and strung up on the walls. Paramedics transport the survivor to an ambulance and speed off while a SWAT team searches the building for Lecter. As the team discover a body in the elevator shaft, the survivor in the ambulance peels off his own face, revealing Lecter in disguise, who kills the paramedics and escapes to the airport.After notified of Lecter's escape, Starling pores over her case file, analyzing Lecter's annotations before realizing that the first victim, Frederica Bimmel, knew Bill in real life before he killed her. Starling travels to Bimmel's hometown and discovers that Bimmel was a tailor and has dresses with templates identical to the patches of skin removed from Buffalo Bill's victims. Realizing that Buffalo Bill is a tailor fashioning a \\\"woman suit\\\" of real skin, she telephones Crawford, who is already on the way to make an arrest, having cross-referenced Lecter's notes with Johns Hopkins Hospital and finding a man named Jame Gumb. Crawford instructs Starling to continue interviewing Bimmel's friends while he leads a SWAT team to Gumb's business address in Calumet City, Illinois. Starling's interviews lead to the house of \\\"Jack Gordon\\\", who Starling soon realizes is actually Gumb, and draws her weapon just as Gumb disappears into his basement. Starling pursues him, discovering a screaming Catherine Martin in the dry well just before the lights in the basement go out, leaving her in complete darkness. Gumb stalks Starling in the dark with night vision goggles and prepares to shoot her when Starling, hearing the machinations of his revolver, swivels around shoots Gumb dead.Days later at the FBI Academy graduation party, Starling receives a phone call from Hannibal Lecter, now in the Bahamas. As Lecter assures Starling he has no plans to pursue her, he excuses himself from the phone call, remarking that he's \\\"having an old friend for dinner\\\", before hanging up and following Chilton through the streets of the village.\\n\\n\",\n          \"Chris Taylor (Charlie Sheen) is a young American who has abandoned a privileged life at a university to enlist in the infantry, volunteering for combat duty in Vietnam. The year is September 1967. Upon arrival in Da Nang, South Vietnam, he sees dead soldiers in body bags being loaded into his plane, but more distressing to him is the shellshocked state of a departing soldier with the \\\"thousand-yard stare.\\\" Taylor and several other replacements have been assigned to Bravo Company, 25th Infantry division, \\\"somewhere near the Cambodian border.\\\" Worn down by the exhausting work and living conditions, his enthusiasm for the war wanes quickly and he develops an admiration for the more experienced soldiers, despite their reluctance to extend their friendship.One day, another new arrival, platoon commander Lieutenant Wolfe (Mark Moses) discusses the plans for a patrol later that night with the platoon sergeants: the compassionate Sergeant Elias (Willem Dafoe), harsh but hard core Staff Sergeant Barnes (Tom Berenger), cowardly, sycophantic \\\"lifer\\\" Sergeant Red O'Neil (John C. McGinley), and drug addict Sergeant Warren (Tony Todd). Barnes and Elias argue over whether to send the new men out on a patrol that is likely to be ambushed. O'Neil insists that the new troops go out instead of several men under him who are nearly finished with their tours of duty. Barnes agrees, only on the condition that O'Neil goes out as well.That night, North Vietnamese soldiers set upon Taylor's sleeping unit. Gardner (Bob Orwig), a fellow new recruit, is killed, and another soldier, Tex (David Neidorf), is maimed. Despite having passed the watch duty to Junior (Reggie Johnson), a more experienced but consistently irresponsible soldier who fell asleep, Taylor is blamed for the casualties (O'Neil is also to blame, having thrown the grenade that maimed Tex). Immediately after the fighting, Taylor discovers a light wound to his neck, and he is sent to the field hospital for treatment.A few days later, Taylor returns to his unit from the hospital and, through a soldier named King (Keith David), gains acceptance from the \\\"heads\\\", a tight-knit group led by Elias that socializes, dances, and takes drugs in a private bunker. Next door, Barnes leads the more traditional members of the unit whom drink beer and play cards and don't smoke marijuana. Taylor becomes a more seasoned soldier as the patrols continue and soon no longer stands out amongst the others.During one patrol on New Years Day, January 1, 1968, two members of the platoon, Sandy (J. Adam Glover) and Sal (Richard Edson) find an abandoned bunker and are killed when they stumble upon a booby trap attached to a box of documents. Shortly after, a soldier named Manny Washington (Corkey Ford) goes missing. His mutilated body is found tied to a post close by. The platoon is infuriated by the senseless death of their comrade and are ordered to report to a nearby village of South Vietnamese citizens.The platoon reaches the village, where a food and weapons cache is discovered. The other soldiers explore the village. In one house, Taylor discovers a mute and mentally disabled boy and his mother hiding in a hole beneath the floor. Taylor harasses and taunts the retarded boy by shooting his rilfe at his feet, but stops himself short of killing the boy. However, Bunny (Kevin Dillon) then takes over and beats the boy to death with his gun, even though Sgt. O'Neil orders them to leave the hut. While questioning the village chief, Barnes loses his patience and senselessly kills the man's wife despite his denials that they are aiding the Viet Cong. Barnes is about to murder the man's young daughter to force him to tell them to where the enemy is, when Sergeant Elias arrives at the scene and starts a fistfight with Barnes. Lieutenant Wolfe, passive during the shooting of the wife, eventually ends the fight, and relays orders from his own superior officer to burn the village. As the men leave, a group of four soldiers, including Bunny and Junior, drag a young Vietnamese girl into the bushes with the intention of raping her. Taylor comes upon them and stops the group from raping the girl. His comrades ridicule him for stopping them.Upon returning to base, Elias reports Barnes' actions to Captain Harris (Dale Dye), who cannot afford to remove Barnes due to a lack of personnel. However, Harris threatens to court martial Barnes if there is evidence that he murdered an unarmed civilian. O'Neil and Bunny, nervous about the possibility of an investigation, speak to Barnes and Bunny suggests \\\"fragging\\\" Elias. A narrating Taylor speaks of this as \\\"a civil war in the platoon. Half with Elias, half with Barnes.\\\" Taylor talks with Elias one night and Elias tells him that the United States is due for a loss in war because they'd been mostly successful in past wars. He also confesses that he's disillusioned with America's mission in Southeast Asia, that he used to believe it was winnable even a few years ago, but knows now that it's not.On their next patrol the platoon is ambushed and pinned down in a firefight by unseen enemy soldiers. Flash (Basile Achara) is killed and Sergeant Warren (Tony Todd) and Lerner (Johnny Depp) are badly injured in the resulting skirmish. Lieutenant Wolfe calls in wrong coordinates for artillery support, resulting in the deaths of Fu Sheng (Steve Barredo), Morehouse (Kevin Eshelman), and Tubbs (Andrew B. Clark) and the severe wounding of Ace (Terry McIlvain). Big Harold (Forest Whitaker) has his leg blown off by a trip-wired booby trap while trying to escape the artillery barrage. Elias, with Taylor, Rhah (Francesco Quinn), and Crawford (Chris Pedersen), go to intercept flanking enemy troops. Though Lt. Wolfe is commanding officer, Barnes takes command. He orders the rest of the platoon to retreat to be airlifted from the area, and goes back into the jungle to find Elias' group. After sending Taylor, Rhah, and Crawford (who has been shot in the lung) back, Barnes finds Elias. Barnes fires three rounds into Elias' chest and leaves him for dead. Barnes runs into Taylor and tells him that Elias is dead and that he'd seen his body nearby. Barnes orders Taylor back to the landing zone. After they take off, the men see a severely wounded Elias emerge from the jungle, running from a large group of NVA soldiers. He dies after being shot several more times by the NVA while the American helicopters futilely attempt to provide him cover overhead.At the base, Taylor tries to talk his dwindling group of six \\\"heads\\\" into killing Barnes in retaliation, claiming that when he'd met Barnes in the forest after shooting Elias, that the look on Barnes' face told him the truth. While King agrees, Doc Gomez (Paul Sanchez) believes they should wait for \\\"military justice\\\" to decide Barnes' fate. Rhah reminds Taylor how much he admired Barnes when he first arrived, and that Barnes isn't meant to die, noting that on several previous occasions Barnes has sustained wounds that ought to have proved mortal: \\\"the only thing that can kill Barnes, is Barnes.\\\" Barnes then appears, very drunk with a bottle of bourbon, having overheard Taylor calling for his murder. He enters the room, daring them to kill him. No one takes up the offer but as Barnes leaves, Taylor attacks him. Barnes quickly gets the upper hand, pins Taylor down and holds a knife to his face. Rhah urges him not to do it, telling Barnes he'll be court-martialed and imprisoned, and he leaves, slashing Taylor under the eye.A few days later, the platoon is sent back to the ambush area in order to build and maintain heavy defensive positions against a potential attack. Rhah is promoted to Sergeant, commanding the remains of Elias' squad. The platoon is so severely weakened, though, that there are numerous gaps in their defense. When this is pointed out to him, Lt. Wolfe only replies that he doesn't \\\"give a fuck\\\" any more. The troops try to prepare for the incoming battle, during which they know the majority of them will die. Just hours before nightfall, King is allowed to go home as his tour of duty has come to an end. O'Neil tries to use Elias' R&R days for himself in order to escape the impending battle (in which he believes he will die). When he asks Barnes for permission, Barnes refuses, saying, \\\"Everybody gotta die some time, Red.\\\" Junior tries to escape the battle by spraying mosquito repellent onto his feet and passing it off as trench foot, a ploy that Barnes recognizes right away. Bunny states that he feels no remorse for the murders he has committed, saying that he enjoys Vietnam, and goes on to proclaim himself to be \\\"Audie Murphy\\\", a famous and highly decorated World War II hero.Francis (Corey Glover), one of the last few remaining \\\"heads\\\", is assigned to the same foxhole as Taylor. That night a large attack occurs and the American defensive perimeter is broken and the camp overrun by hundreds of attacking North Vietnamese troops. Taylor and Francis take on and cut down several attacking enemy troops until they both pause when they hear signal whistles from the unseen NVA sergeants ordering their men to cease fire. Hearing a Vietnamese voice over a bullhorn and understanding that the NVA are ordering RPGs up to the line to blow up the foxhole they are in, Taylor grabs Francis and both of them crawl out of the foxhole seconds before it's hit by an RPG. Taylor and Francis then attack and kill several enemy soldiers that overrun their destroyed foxhole until Taylor loses it during the fight and charges off into the carnage, shooting one enemy soldier after another.Meanwhile, the NVA attack against the base continues relentlessly. The command bunker is destroyed by a NVA suicide bomber (Oliver Stone makes a cameo as the doomed battalion commander inside the bunker). During the massed North Vietnamese Army attack, many members of the platoon are killed, including Lt. Wolfe, Parker (Peter Hicks), Doc, Bunny, and Junior when their foxholes are overrun. O'Neil survives only by hiding himself under a dead body. The desperate company commander, Captain Harris, orders the Air Force pilots to \\\"expend all remaining\\\" inside his perimeter. During the chaos, Barnes and Taylor come face-to-face. As Barnes is about to kill Taylor with a shovel, the two are knocked unconscious by the last-ditch American napalm attack.A wounded Taylor regains consciousness the next morning with a serious wound to his lower abdomen. He soon finds Barnes, who is also wounded after being shot in both legs during the battle. Taylor takes an AK-47 rifle from a dead enemy soldier and aims it at Barnes, who lays helpless on the ground. Nonetheless, Barnes feels at first not threatened, and he dismissively orders Taylor to call a medic. When Taylor does not comply, but instead continues to aim his weapon, Barnes (deranged to the last) dares him to pull the trigger by saying: \\\"Do it!\\\" Taylor shoots Barnes three times in the chest, killing him. Taylor then drops his rifle, collapses, and awaits medical attention.Interestingly, although not in the script, Taylor is seen on the verge of pulling the pin of a grenade that he found, only to drop it as reinforcements come to Taylor. (Charlie Sheen thought that Taylor would be committing suicide after killing Barnes. Oliver Stone thought that the mistake was good so he decided to keep it in the film.)Francis emerges from his foxhole and stabs himself with a bayonet in order to be evacuated as a casualty. O'Neil is found by other Americans, and Harris (much to O'Neil's distress) gives him command of the platoon. As he is loaded onto the helicopter, Taylor is reminded by Francis that because they have been wounded twice, they can go home. Back at the bombed-out command post, hundreds of NVA bodies are being dumped into mass graves. After bidding farewell to Rhah, Francis, Tony Hoyt (Ivan Kane) and Ebenhoch (Mark Ebenhoch) (his last surviving friends in the platoon; the other survivors are Rodriguez (Chris Castillejo), Huffmeister (Robert Galotti), and O'Neil), Taylor boards his helicopter. The helicopter flies away and Taylor weeps as he stares down at the destruction, while he (from a future perspective) narrates that he will forever be in Vietnam, with Barnes and Elias battling for what Rhah called \\\"possession of his soul\\\", and that he believes he and other veterans must rebuild themselves, and find goodness and purpose in their lives.\\n\\n\"\n        ],\n        \"semantic_type\": \"\",\n        \"description\": \"\"\n      }\n    }\n  ]\n}"
            }
          },
          "metadata": {},
          "execution_count": 53
        }
      ]
    },
    {
      "cell_type": "markdown",
      "source": [
        "nembre de movies dans le jeu de donnée :"
      ],
      "metadata": {
        "id": "XyRjb62e0mSP"
      }
    },
    {
      "cell_type": "code",
      "source": [
        "len(data)"
      ],
      "metadata": {
        "colab": {
          "base_uri": "https://localhost:8080/"
        },
        "id": "qJDWco4S0iwx",
        "outputId": "3d337acc-8634-4a5d-d52e-f84671cb3ebc"
      },
      "execution_count": 54,
      "outputs": [
        {
          "output_type": "execute_result",
          "data": {
            "text/plain": [
              "100"
            ]
          },
          "metadata": {},
          "execution_count": 54
        }
      ]
    },
    {
      "cell_type": "code",
      "source": [
        "data.info()"
      ],
      "metadata": {
        "colab": {
          "base_uri": "https://localhost:8080/"
        },
        "id": "4C2Cw9g41lQH",
        "outputId": "80923eec-ed9f-433e-b0ea-f2315a7d867b"
      },
      "execution_count": 55,
      "outputs": [
        {
          "output_type": "stream",
          "name": "stdout",
          "text": [
            "<class 'pandas.core.frame.DataFrame'>\n",
            "RangeIndex: 100 entries, 0 to 99\n",
            "Data columns (total 5 columns):\n",
            " #   Column     Non-Null Count  Dtype \n",
            "---  ------     --------------  ----- \n",
            " 0   rank       100 non-null    int64 \n",
            " 1   title      100 non-null    object\n",
            " 2   genre      100 non-null    object\n",
            " 3   wiki_plot  100 non-null    object\n",
            " 4   imdb_plot  90 non-null     object\n",
            "dtypes: int64(1), object(4)\n",
            "memory usage: 4.0+ KB\n"
          ]
        }
      ]
    },
    {
      "cell_type": "markdown",
      "source": [
        "les données nulls sont :"
      ],
      "metadata": {
        "id": "RMUhxZ2W1Ib3"
      }
    },
    {
      "cell_type": "code",
      "source": [
        "data.isnull().sum()"
      ],
      "metadata": {
        "colab": {
          "base_uri": "https://localhost:8080/",
          "height": 241
        },
        "id": "AqBJVoK30_WE",
        "outputId": "651d2f12-eb9d-4dc0-8c85-91a5bdd5e51a"
      },
      "execution_count": 56,
      "outputs": [
        {
          "output_type": "execute_result",
          "data": {
            "text/plain": [
              "rank          0\n",
              "title         0\n",
              "genre         0\n",
              "wiki_plot     0\n",
              "imdb_plot    10\n",
              "dtype: int64"
            ],
            "text/html": [
              "<div>\n",
              "<style scoped>\n",
              "    .dataframe tbody tr th:only-of-type {\n",
              "        vertical-align: middle;\n",
              "    }\n",
              "\n",
              "    .dataframe tbody tr th {\n",
              "        vertical-align: top;\n",
              "    }\n",
              "\n",
              "    .dataframe thead th {\n",
              "        text-align: right;\n",
              "    }\n",
              "</style>\n",
              "<table border=\"1\" class=\"dataframe\">\n",
              "  <thead>\n",
              "    <tr style=\"text-align: right;\">\n",
              "      <th></th>\n",
              "      <th>0</th>\n",
              "    </tr>\n",
              "  </thead>\n",
              "  <tbody>\n",
              "    <tr>\n",
              "      <th>rank</th>\n",
              "      <td>0</td>\n",
              "    </tr>\n",
              "    <tr>\n",
              "      <th>title</th>\n",
              "      <td>0</td>\n",
              "    </tr>\n",
              "    <tr>\n",
              "      <th>genre</th>\n",
              "      <td>0</td>\n",
              "    </tr>\n",
              "    <tr>\n",
              "      <th>wiki_plot</th>\n",
              "      <td>0</td>\n",
              "    </tr>\n",
              "    <tr>\n",
              "      <th>imdb_plot</th>\n",
              "      <td>10</td>\n",
              "    </tr>\n",
              "  </tbody>\n",
              "</table>\n",
              "</div><br><label><b>dtype:</b> int64</label>"
            ]
          },
          "metadata": {},
          "execution_count": 56
        }
      ]
    },
    {
      "cell_type": "markdown",
      "source": [
        "# **Text Preprocessing:**"
      ],
      "metadata": {
        "id": "pjaY-HgX0x7s"
      }
    },
    {
      "cell_type": "markdown",
      "source": [
        "## Combiner les résumés des deux sources."
      ],
      "metadata": {
        "id": "KxVWkULR02X2"
      }
    },
    {
      "cell_type": "code",
      "source": [
        "data['combiner'] = data['wiki_plot'].astype(str) + ' ' + data['imdb_plot'].astype(str)"
      ],
      "metadata": {
        "id": "dB_CdjpZ3V4V"
      },
      "execution_count": 57,
      "outputs": []
    },
    {
      "cell_type": "markdown",
      "source": [
        "## la tokenisation pour diviser le texte en unités (mots ou phrases)"
      ],
      "metadata": {
        "id": "MGoCT6vv4RXy"
      }
    },
    {
      "cell_type": "markdown",
      "source": [
        "import library :"
      ],
      "metadata": {
        "id": "7ze4oSBF5Wng"
      }
    },
    {
      "cell_type": "code",
      "source": [
        "from nltk.tokenize import word_tokenize\n",
        "import nltk\n",
        "nltk.download('punkt_tab')"
      ],
      "metadata": {
        "colab": {
          "base_uri": "https://localhost:8080/"
        },
        "id": "TkAUvZ7C4Td6",
        "outputId": "8b9cc475-4276-4aca-da79-2e5282af1454"
      },
      "execution_count": 60,
      "outputs": [
        {
          "output_type": "stream",
          "name": "stderr",
          "text": [
            "[nltk_data] Downloading package punkt_tab to /root/nltk_data...\n",
            "[nltk_data]   Unzipping tokenizers/punkt_tab.zip.\n"
          ]
        },
        {
          "output_type": "execute_result",
          "data": {
            "text/plain": [
              "True"
            ]
          },
          "metadata": {},
          "execution_count": 60
        }
      ]
    },
    {
      "cell_type": "markdown",
      "source": [
        "cree un nouveau colonne pour ajoute les phrases se forme des mots diviser :"
      ],
      "metadata": {
        "id": "MLC00TBk5csh"
      }
    },
    {
      "cell_type": "code",
      "source": [
        "data['tokens'] = data['combiner'].apply(word_tokenize)"
      ],
      "metadata": {
        "id": "zBwKzy9d4tW3"
      },
      "execution_count": 61,
      "outputs": []
    },
    {
      "cell_type": "code",
      "source": [
        "data['tokens'].head()"
      ],
      "metadata": {
        "colab": {
          "base_uri": "https://localhost:8080/",
          "height": 241
        },
        "id": "Z5rOr2vb5EPf",
        "outputId": "594b7259-d589-4143-d498-9ab528f38b52"
      },
      "execution_count": 62,
      "outputs": [
        {
          "output_type": "execute_result",
          "data": {
            "text/plain": [
              "0    [On, the, day, of, his, only, daughter, 's, we...\n",
              "1    [In, 1947, ,, banker, Andy, Dufresne, is, conv...\n",
              "2    [In, 1939, ,, the, Germans, move, Polish, Jews...\n",
              "3    [In, a, brief, scene, in, 1964, ,, an, aging, ...\n",
              "4    [It, is, early, December, 1941, ., American, e...\n",
              "Name: tokens, dtype: object"
            ],
            "text/html": [
              "<div>\n",
              "<style scoped>\n",
              "    .dataframe tbody tr th:only-of-type {\n",
              "        vertical-align: middle;\n",
              "    }\n",
              "\n",
              "    .dataframe tbody tr th {\n",
              "        vertical-align: top;\n",
              "    }\n",
              "\n",
              "    .dataframe thead th {\n",
              "        text-align: right;\n",
              "    }\n",
              "</style>\n",
              "<table border=\"1\" class=\"dataframe\">\n",
              "  <thead>\n",
              "    <tr style=\"text-align: right;\">\n",
              "      <th></th>\n",
              "      <th>tokens</th>\n",
              "    </tr>\n",
              "  </thead>\n",
              "  <tbody>\n",
              "    <tr>\n",
              "      <th>0</th>\n",
              "      <td>[On, the, day, of, his, only, daughter, 's, we...</td>\n",
              "    </tr>\n",
              "    <tr>\n",
              "      <th>1</th>\n",
              "      <td>[In, 1947, ,, banker, Andy, Dufresne, is, conv...</td>\n",
              "    </tr>\n",
              "    <tr>\n",
              "      <th>2</th>\n",
              "      <td>[In, 1939, ,, the, Germans, move, Polish, Jews...</td>\n",
              "    </tr>\n",
              "    <tr>\n",
              "      <th>3</th>\n",
              "      <td>[In, a, brief, scene, in, 1964, ,, an, aging, ...</td>\n",
              "    </tr>\n",
              "    <tr>\n",
              "      <th>4</th>\n",
              "      <td>[It, is, early, December, 1941, ., American, e...</td>\n",
              "    </tr>\n",
              "  </tbody>\n",
              "</table>\n",
              "</div><br><label><b>dtype:</b> object</label>"
            ]
          },
          "metadata": {},
          "execution_count": 62
        }
      ]
    },
    {
      "cell_type": "markdown",
      "source": [
        "## la racisation (stemming) pour réduire les mots à leur forme racine:"
      ],
      "metadata": {
        "id": "IMZGn8_w5oZ7"
      }
    },
    {
      "cell_type": "code",
      "source": [
        "from nltk.stem import PorterStemmer"
      ],
      "metadata": {
        "id": "-fKtQQG35wQk"
      },
      "execution_count": 63,
      "outputs": []
    },
    {
      "cell_type": "code",
      "source": [
        "stm = PorterStemmer()"
      ],
      "metadata": {
        "id": "NHqr43-w53Zc"
      },
      "execution_count": 64,
      "outputs": []
    },
    {
      "cell_type": "code",
      "source": [
        "data['tokens_stm'] = data['tokens'].apply(lambda x: [stm.stem(word) for word in x])"
      ],
      "metadata": {
        "id": "OcHdI6Pe58Zb"
      },
      "execution_count": 65,
      "outputs": []
    },
    {
      "cell_type": "code",
      "source": [
        "data['tokens_stm'].head()"
      ],
      "metadata": {
        "colab": {
          "base_uri": "https://localhost:8080/",
          "height": 241
        },
        "id": "dt1f8SHS6SNQ",
        "outputId": "531c32de-48da-4962-ab91-08ea7ca7a819"
      },
      "execution_count": 66,
      "outputs": [
        {
          "output_type": "execute_result",
          "data": {
            "text/plain": [
              "0    [on, the, day, of, hi, onli, daughter, 's, wed...\n",
              "1    [in, 1947, ,, banker, andi, dufresn, is, convi...\n",
              "2    [in, 1939, ,, the, german, move, polish, jew, ...\n",
              "3    [in, a, brief, scene, in, 1964, ,, an, age, ,,...\n",
              "4    [it, is, earli, decemb, 1941, ., american, exp...\n",
              "Name: tokens_stm, dtype: object"
            ],
            "text/html": [
              "<div>\n",
              "<style scoped>\n",
              "    .dataframe tbody tr th:only-of-type {\n",
              "        vertical-align: middle;\n",
              "    }\n",
              "\n",
              "    .dataframe tbody tr th {\n",
              "        vertical-align: top;\n",
              "    }\n",
              "\n",
              "    .dataframe thead th {\n",
              "        text-align: right;\n",
              "    }\n",
              "</style>\n",
              "<table border=\"1\" class=\"dataframe\">\n",
              "  <thead>\n",
              "    <tr style=\"text-align: right;\">\n",
              "      <th></th>\n",
              "      <th>tokens_stm</th>\n",
              "    </tr>\n",
              "  </thead>\n",
              "  <tbody>\n",
              "    <tr>\n",
              "      <th>0</th>\n",
              "      <td>[on, the, day, of, hi, onli, daughter, 's, wed...</td>\n",
              "    </tr>\n",
              "    <tr>\n",
              "      <th>1</th>\n",
              "      <td>[in, 1947, ,, banker, andi, dufresn, is, convi...</td>\n",
              "    </tr>\n",
              "    <tr>\n",
              "      <th>2</th>\n",
              "      <td>[in, 1939, ,, the, german, move, polish, jew, ...</td>\n",
              "    </tr>\n",
              "    <tr>\n",
              "      <th>3</th>\n",
              "      <td>[in, a, brief, scene, in, 1964, ,, an, age, ,,...</td>\n",
              "    </tr>\n",
              "    <tr>\n",
              "      <th>4</th>\n",
              "      <td>[it, is, earli, decemb, 1941, ., american, exp...</td>\n",
              "    </tr>\n",
              "  </tbody>\n",
              "</table>\n",
              "</div><br><label><b>dtype:</b> object</label>"
            ]
          },
          "metadata": {},
          "execution_count": 66
        }
      ]
    },
    {
      "cell_type": "markdown",
      "source": [
        "## **Convertir le texte en données numériques :**"
      ],
      "metadata": {
        "id": "0F44Rq1Y8SPV"
      }
    },
    {
      "cell_type": "code",
      "source": [
        "from sklearn.feature_extraction.text import TfidfVectorizer"
      ],
      "metadata": {
        "id": "mzuRiEvj8hMH"
      },
      "execution_count": 67,
      "outputs": []
    },
    {
      "cell_type": "code",
      "source": [
        "vec = TfidfVectorizer(stop_words='english')"
      ],
      "metadata": {
        "id": "lsm2Mgvy8yll"
      },
      "execution_count": 68,
      "outputs": []
    },
    {
      "cell_type": "code",
      "source": [
        "tfidf_matrix = vec.fit_transform(data['combiner'])"
      ],
      "metadata": {
        "id": "521d2hFh83Fj"
      },
      "execution_count": 70,
      "outputs": []
    },
    {
      "cell_type": "code",
      "source": [
        "tfidf_matrix.shape"
      ],
      "metadata": {
        "colab": {
          "base_uri": "https://localhost:8080/"
        },
        "id": "AGOywzJk9qKw",
        "outputId": "e1727f33-3d38-4a6b-acbc-914662bf9737"
      },
      "execution_count": 71,
      "outputs": [
        {
          "output_type": "execute_result",
          "data": {
            "text/plain": [
              "(100, 15790)"
            ]
          },
          "metadata": {},
          "execution_count": 71
        }
      ]
    },
    {
      "cell_type": "markdown",
      "source": [
        "# **Clustering avec KMeans :**"
      ],
      "metadata": {
        "id": "qVboLFsO948E"
      }
    },
    {
      "cell_type": "code",
      "source": [
        "from sklearn.cluster import KMeans"
      ],
      "metadata": {
        "id": "8j4x8XK8979Q"
      },
      "execution_count": 72,
      "outputs": []
    },
    {
      "cell_type": "code",
      "source": [
        "kmeans = KMeans(n_clusters=5, random_state=42)"
      ],
      "metadata": {
        "id": "ksEHqp0L9_X4"
      },
      "execution_count": 73,
      "outputs": []
    },
    {
      "cell_type": "code",
      "source": [
        "data['cluster'] = kmeans.fit_predict(tfidf_matrix)"
      ],
      "metadata": {
        "id": "HHEOzy5D-B9_"
      },
      "execution_count": 74,
      "outputs": []
    },
    {
      "cell_type": "code",
      "source": [
        "# Afficher les films dans chaque cluster\n",
        "for cluster_num in range(5):\n",
        "    print(f\"Cluster {cluster_num}:\")\n",
        "    print(data[data['cluster'] == cluster_num]['title'].head())"
      ],
      "metadata": {
        "colab": {
          "base_uri": "https://localhost:8080/"
        },
        "id": "plrY4B9M-Elm",
        "outputId": "025407bb-a511-4faa-951f-52070d9df034"
      },
      "execution_count": 75,
      "outputs": [
        {
          "output_type": "stream",
          "name": "stdout",
          "text": [
            "Cluster 0:\n",
            "34                 Gladiator\n",
            "37                Unforgiven\n",
            "41    The Philadelphia Story\n",
            "42     To Kill a Mockingbird\n",
            "61           The Deer Hunter\n",
            "Name: title, dtype: object\n",
            "Cluster 1:\n",
            "7            Citizen Kane\n",
            "13           Sunset Blvd.\n",
            "14                Vertigo\n",
            "23              Chinatown\n",
            "25    Singin' in the Rain\n",
            "Name: title, dtype: object\n",
            "Cluster 2:\n",
            "0              The Godfather\n",
            "3                Raging Bull\n",
            "11    The Godfather: Part II\n",
            "15         On the Waterfront\n",
            "27          Some Like It Hot\n",
            "Name: title, dtype: object\n",
            "Cluster 3:\n",
            "9                      Titanic\n",
            "17          The Sound of Music\n",
            "18             West Side Story\n",
            "22    The Silence of the Lambs\n",
            "31              Apocalypse Now\n",
            "Name: title, dtype: object\n",
            "Cluster 4:\n",
            "1           The Shawshank Redemption\n",
            "2                   Schindler's List\n",
            "4                         Casablanca\n",
            "5    One Flew Over the Cuckoo's Nest\n",
            "6                 Gone with the Wind\n",
            "Name: title, dtype: object\n"
          ]
        }
      ]
    },
    {
      "cell_type": "markdown",
      "source": [
        "## Calcul de la distance de similarité :"
      ],
      "metadata": {
        "id": "FFlzE5J4_G5n"
      }
    },
    {
      "cell_type": "markdown",
      "source": [
        "Note :\n",
        "\n",
        "---\n",
        "\n",
        "Considérons les deux phrases suivantes du film Le Magicien d'Oz :\n",
        "\n",
        "\"they find in the Emerald City\"\n",
        "\n",
        "---\n",
        "\n",
        "\n",
        "\"they finally reach the Emerald City\"\n",
        "\n",
        "---\n",
        "\n",
        "\n",
        "Analyse avec un CountVectorizer :\n",
        "Le CountVectorizer crée un vocabulaire unique à partir des mots dans ces phrases :\n",
        "\"they, find, in, the, Emerald, City, finally, reach\"\n",
        "\n",
        "Chaque phrase est ensuite transformée en un vecteur selon ce vocabulaire, où :\n",
        "\n",
        "Un \"1\" indique la présence d’un mot dans la phrase.\n",
        "Un \"0\" indique son absence.\n",
        "Vecteurs générés :\n",
        "\n",
        "Phrase 1 : [1, 1, 1, 1, 1, 1, 0, 0]\n",
        "Phrase 2 : [1, 0, 0, 1, 1, 1, 1, 1]\n",
        "Calcul de la similarité cosinus :\n",
        "La similarité cosinus mesure l’angle entre deux vecteurs :\n",
        "\n",
        "Si l'angle est proche de 0° (cosine ≈ 1), les phrases sont très similaires.\n",
        "Si l'angle est proche de 90° (cosine ≈ 0), les phrases sont très différentes.\n",
        "Dans cet exemple, la similarité cosinus est 0.667, ce qui indique que les phrases sont très similaires.\n",
        "\n",
        "Calcul de la distance de similarité :\n",
        "La distance de similarité est définie par :\n",
        "Distance = 1 - Similarité cosinus\n",
        "\n",
        "Ici :\n",
        "Distance = 1 - 0.667 = 0.333\n",
        "Plus la distance est proche de 0, plus les phrases sont similaires."
      ],
      "metadata": {
        "id": "y16titjLAFLW"
      }
    },
    {
      "cell_type": "code",
      "source": [
        "from sklearn.metrics.pairwise import cosine_similarity"
      ],
      "metadata": {
        "id": "LUXPztgH_Iyq"
      },
      "execution_count": 77,
      "outputs": []
    },
    {
      "cell_type": "code",
      "source": [
        "cosinus_sim = cosine_similarity(tfidf_matrix)"
      ],
      "metadata": {
        "id": "SXkuL-2p_LXz"
      },
      "execution_count": 78,
      "outputs": []
    },
    {
      "cell_type": "code",
      "source": [
        "cosinus_sim[0]"
      ],
      "metadata": {
        "colab": {
          "base_uri": "https://localhost:8080/"
        },
        "id": "u7d1lxMu_V8c",
        "outputId": "f685b951-7266-403d-9aa3-8d1ca6268747"
      },
      "execution_count": 79,
      "outputs": [
        {
          "output_type": "execute_result",
          "data": {
            "text/plain": [
              "array([1.        , 0.01104351, 0.01681739, 0.02085154, 0.01299732,\n",
              "       0.01116449, 0.01599147, 0.01846433, 0.01247745, 0.01651507,\n",
              "       0.01236326, 0.60823213, 0.02430198, 0.01898437, 0.00985778,\n",
              "       0.03391188, 0.01758838, 0.03139466, 0.01581181, 0.01525975,\n",
              "       0.12976834, 0.01197836, 0.01497269, 0.02105111, 0.01803571,\n",
              "       0.06894672, 0.02400749, 0.01462674, 0.01462155, 0.0189945 ,\n",
              "       0.01211238, 0.01525628, 0.01880344, 0.01443961, 0.01897124,\n",
              "       0.01264315, 0.02569048, 0.01682642, 0.00964651, 0.02265493,\n",
              "       0.0161793 , 0.0231383 , 0.03682229, 0.01298021, 0.03350901,\n",
              "       0.01001856, 0.01212237, 0.02039048, 0.03331511, 0.02958776,\n",
              "       0.02565127, 0.0160295 , 0.0121554 , 0.01412773, 0.01758579,\n",
              "       0.01878194, 0.01602746, 0.01152159, 0.02445592, 0.04810351,\n",
              "       0.01555373, 0.04774776, 0.02480626, 0.02310075, 0.02964844,\n",
              "       0.01942988, 0.03167841, 0.02011703, 0.01944477, 0.01629033,\n",
              "       0.03482157, 0.02089964, 0.02284662, 0.01456109, 0.01776782,\n",
              "       0.24216257, 0.02460797, 0.02526267, 0.0711685 , 0.01031624,\n",
              "       0.02662335, 0.01734257, 0.01034023, 0.05463904, 0.01530253,\n",
              "       0.01911397, 0.02178229, 0.01338946, 0.01730625, 0.01060726,\n",
              "       0.01274831, 0.02665992, 0.01588723, 0.01153271, 0.01665721,\n",
              "       0.02842296, 0.01942189, 0.01505434, 0.01750803, 0.02032378])"
            ]
          },
          "metadata": {},
          "execution_count": 79
        }
      ]
    },
    {
      "cell_type": "markdown",
      "source": [
        "## Importation de Matplotlib, Linkage et Dendrogrammes"
      ],
      "metadata": {
        "id": "uOaJPALRAaB_"
      }
    },
    {
      "cell_type": "code",
      "source": [
        "import matplotlib.pyplot as plt\n",
        "from scipy.cluster.hierarchy import dendrogram, linkage"
      ],
      "metadata": {
        "id": "Lqb0vmniAjFP"
      },
      "execution_count": 80,
      "outputs": []
    },
    {
      "cell_type": "code",
      "source": [
        "linked = linkage(tfidf_matrix.toarray(), method='ward')"
      ],
      "metadata": {
        "id": "PQcOYlFiAln-"
      },
      "execution_count": 81,
      "outputs": []
    },
    {
      "cell_type": "code",
      "source": [
        "# le dendrogramme\n",
        "plt.figure(figsize=(20, 10))\n",
        "dendrogram(linked, labels=data['title'].to_numpy())\n",
        "plt.show()"
      ],
      "metadata": {
        "colab": {
          "base_uri": "https://localhost:8080/",
          "height": 777
        },
        "id": "1-FiYXXqAosw",
        "outputId": "3f7fea3c-ed2c-4579-a061-b5108c463d61"
      },
      "execution_count": 83,
      "outputs": [
        {
          "output_type": "display_data",
          "data": {
            "text/plain": [
              "<Figure size 2000x1000 with 1 Axes>"
            ],
            "image/png": "[encoded data removed]"
          },
          "metadata": {}
        }
      ]
    },
    {
      "cell_type": "markdown",
      "source": [
        "# **Identification des films les plus similaires:**"
      ],
      "metadata": {
        "id": "jDMkY3sUA_DT"
      }
    },
    {
      "cell_type": "markdown",
      "source": [
        "**La fonction most_similar_movies permet de trouver les films les plus similaires en fonction de leur indice dans une matrice de similarité. Elle trie les films par similarité cosinus et renvoie les titres des films les plus proches du film de référence.**"
      ],
      "metadata": {
        "id": "wOltLpxtD39n"
      }
    },
    {
      "cell_type": "markdown",
      "source": [
        "les indices des films :"
      ],
      "metadata": {
        "id": "vf8IxwyzERWm"
      }
    },
    {
      "cell_type": "code",
      "source": [
        "def indice_film(title):\n",
        "    return data[data['title'] == title].index[0]"
      ],
      "metadata": {
        "id": "UfFtHmKcExoJ"
      },
      "execution_count": 90,
      "outputs": []
    },
    {
      "cell_type": "code",
      "source": [
        "indice_film('The Godfather')"
      ],
      "metadata": {
        "colab": {
          "base_uri": "https://localhost:8080/"
        },
        "id": "ZrSvUrUEE2py",
        "outputId": "71cb65e1-a659-4d0a-ba4f-40a18d76cdc0"
      },
      "execution_count": 91,
      "outputs": [
        {
          "output_type": "execute_result",
          "data": {
            "text/plain": [
              "0"
            ]
          },
          "metadata": {},
          "execution_count": 91
        }
      ]
    },
    {
      "cell_type": "code",
      "source": [
        "# Identifier les films les plus similaires (par exemple, basés sur la similarité cosinus)\n",
        "def most_similar_movies(movie_idx, similarity_matrix, top_n=5):\n",
        "    similar_scores = similarity_matrix[movie_idx]\n",
        "    similar_movies_idx = similar_scores.argsort()[-top_n-1:-1]  # Les top N films les plus similaires\n",
        "    return data.iloc[similar_movies_idx]['title']\n",
        "\n",
        "# Trouver les films les plus similaires au premier film\n",
        "most_similar_movies(0, cosinus_sim, top_n=3)\n"
      ],
      "metadata": {
        "colab": {
          "base_uri": "https://localhost:8080/",
          "height": 178
        },
        "id": "bXt7OsxFBMdJ",
        "outputId": "a66f0846-82fa-4b82-9648-cc28903f1912"
      },
      "execution_count": 87,
      "outputs": [
        {
          "output_type": "execute_result",
          "data": {
            "text/plain": [
              "20    E.T. the Extra-Terrestrial\n",
              "75                       Tootsie\n",
              "11        The Godfather: Part II\n",
              "Name: title, dtype: object"
            ],
            "text/html": [
              "<div>\n",
              "<style scoped>\n",
              "    .dataframe tbody tr th:only-of-type {\n",
              "        vertical-align: middle;\n",
              "    }\n",
              "\n",
              "    .dataframe tbody tr th {\n",
              "        vertical-align: top;\n",
              "    }\n",
              "\n",
              "    .dataframe thead th {\n",
              "        text-align: right;\n",
              "    }\n",
              "</style>\n",
              "<table border=\"1\" class=\"dataframe\">\n",
              "  <thead>\n",
              "    <tr style=\"text-align: right;\">\n",
              "      <th></th>\n",
              "      <th>title</th>\n",
              "    </tr>\n",
              "  </thead>\n",
              "  <tbody>\n",
              "    <tr>\n",
              "      <th>20</th>\n",
              "      <td>E.T. the Extra-Terrestrial</td>\n",
              "    </tr>\n",
              "    <tr>\n",
              "      <th>75</th>\n",
              "      <td>Tootsie</td>\n",
              "    </tr>\n",
              "    <tr>\n",
              "      <th>11</th>\n",
              "      <td>The Godfather: Part II</td>\n",
              "    </tr>\n",
              "  </tbody>\n",
              "</table>\n",
              "</div><br><label><b>dtype:</b> object</label>"
            ]
          },
          "metadata": {},
          "execution_count": 87
        }
      ]
    }
  ]
}